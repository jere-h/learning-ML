{
  "nbformat": 4,
  "nbformat_minor": 0,
  "metadata": {
    "colab": {
      "name": "Trainable Layers MobileNet Cutmix with SGD.ipynb",
      "provenance": []
    },
    "kernelspec": {
      "name": "python3",
      "display_name": "Python 3"
    },
    "accelerator": "GPU"
  },
  "cells": [
    {
      "cell_type": "code",
      "metadata": {
        "id": "wREo1FzS-_iy",
        "colab_type": "code",
        "colab": {
          "base_uri": "https://localhost:8080/",
          "height": 121
        },
        "outputId": "fc9afcf2-acaa-4d07-f40d-841913683d08"
      },
      "source": [
        "from google.colab import drive\n",
        "drive.mount(\"/content/gdrive\", force_remount=True)"
      ],
      "execution_count": null,
      "outputs": [
        {
          "output_type": "stream",
          "text": [
            "Go to this URL in a browser: https://accounts.google.com/o/oauth2/auth?client_id=947318989803-6bn6qk8qdgf4n4g3pfee6491hc0brc4i.apps.googleusercontent.com&redirect_uri=urn%3aietf%3awg%3aoauth%3a2.0%3aoob&response_type=code&scope=email%20https%3a%2f%2fwww.googleapis.com%2fauth%2fdocs.test%20https%3a%2f%2fwww.googleapis.com%2fauth%2fdrive%20https%3a%2f%2fwww.googleapis.com%2fauth%2fdrive.photos.readonly%20https%3a%2f%2fwww.googleapis.com%2fauth%2fpeopleapi.readonly\n",
            "\n",
            "Enter your authorization code:\n",
            "··········\n",
            "Mounted at /content/gdrive\n"
          ],
          "name": "stdout"
        }
      ]
    },
    {
      "cell_type": "code",
      "metadata": {
        "id": "sYzGdpGQ_BZT",
        "colab_type": "code",
        "colab": {
          "base_uri": "https://localhost:8080/",
          "height": 50
        },
        "outputId": "2f02634c-52ab-495c-b7aa-d5f6fe893078"
      },
      "source": [
        "!unzip \"gdrive/My Drive/shopee-product-detection-student.zip\""
      ],
      "execution_count": null,
      "outputs": [
        {
          "output_type": "stream",
          "text": [
            "Archive:  gdrive/My Drive/shopee-product-detection-student.zip\n",
            "file #1:  bad zipfile offset (lseek):  0\n"
          ],
          "name": "stdout"
        }
      ]
    },
    {
      "cell_type": "code",
      "metadata": {
        "id": "fUKmVwpB_Bbi",
        "colab_type": "code",
        "colab": {}
      },
      "source": [
        ""
      ],
      "execution_count": null,
      "outputs": []
    },
    {
      "cell_type": "code",
      "metadata": {
        "id": "GEenc7sf_Bd9",
        "colab_type": "code",
        "colab": {}
      },
      "source": [
        "img_size = 224\n",
        "\n",
        "# Data augmentation only on training set not val set\n",
        "datagen_aug = ImageDataGenerator(\n",
        "         rescale=1./255,\n",
        "         validation_split=0.06,\n",
        "         horizontal_flip=True,  # randomly flip images\n",
        "         vertical_flip=False\n",
        "         )  \n",
        "\n",
        "batchsize = 16\n",
        "\n",
        "train_gen = datagen_aug.flow_from_directory(\n",
        "    directory=\"./train/train/train/\",\n",
        "    subset = 'training',\n",
        "    target_size=(img_size, img_size),\n",
        "    color_mode=\"rgb\",\n",
        "    batch_size=batchsize,\n",
        "    class_mode=\"categorical\",\n",
        "    shuffle=True,\n",
        ")\n",
        "\n",
        "train_gen2 = datagen_aug.flow_from_directory(\n",
        "    directory=\"./train/train/train/\",\n",
        "    subset = 'training',\n",
        "    target_size=(img_size, img_size),\n",
        "    color_mode=\"rgb\",\n",
        "    batch_size=batchsize,\n",
        "    class_mode=\"categorical\",\n",
        "    shuffle=True,\n",
        ")\n",
        "\n",
        "valid_gen = datagen_aug.flow_from_directory(\n",
        "    directory=\"./train/train/train/\",\n",
        "    subset = 'validation',\n",
        "    target_size=(img_size, img_size),\n",
        "    color_mode=\"rgb\",\n",
        "    batch_size=batchsize,\n",
        "    class_mode=\"categorical\",\n",
        "    shuffle=True,\n",
        "    seed=42\n",
        ")\n",
        "\n",
        "train_generator = CutMixImageDataGenerator(\n",
        "    generator1=train_gen,\n",
        "    generator2=train_gen2,\n",
        "    img_size=img_size,\n",
        "    batch_size=batchsize,\n",
        ")\n",
        "\n",
        "model = tf.keras.Sequential()\n",
        "\n",
        "base = tf.keras.applications.MobileNetV2(weights='imagenet', include_top=False,input_shape=(img_size, img_size,3))\n",
        "for layer in base.layers[:135]:\n",
        "    layer.trainable = False\n",
        "model.add(base)\n",
        "model.add(GlobalAveragePooling2D())\n",
        "#model.add(Dense(1024,\n",
        "#        activation='relu',\n",
        "#        kernel_initializer='he_normal',\n",
        "#        kernel_regularizer=regularizers.l2(1e-3),\n",
        "#    ))\n",
        "#model.add(Dropout(0.6))\n",
        "model.add(Dense(42, activation='softmax'))\n",
        "\n",
        "optim = tf.keras.optimizers.SGD(lr=0.05, nesterov=True) # Start to lower it when it plateaus\n",
        "\n",
        "# Compile model with optimizer\n",
        "model.compile(\n",
        "    optimizer=optim,\n",
        "    loss='categorical_crossentropy',\n",
        "    metrics=['accuracy']\n",
        "\n",
        "  )\n"
      ],
      "execution_count": null,
      "outputs": []
    },
    {
      "cell_type": "code",
      "metadata": {
        "id": "OjVoMh8Y_BgE",
        "colab_type": "code",
        "colab": {}
      },
      "source": [
        "# Training\n",
        "epochs = 5\n",
        "\n",
        "cb_early_stopper = EarlyStopping(monitor = 'val_loss', patience = 3)\n",
        "cb_checkpointer = ModelCheckpoint(filepath = './gdrive/My Drive/checkpt_latest.hdf5', \n",
        "                                  monitor = 'val_loss',\n",
        "                                  save_best_only = True, mode = 'auto')\n",
        "\n",
        "VALID_STEP = valid_gen.n//valid_gen.batch_size\n",
        "TRAIN_STEP = train_gen.n//train_gen.batch_size\n",
        "\n",
        "model.load_weights('./gdrive/My Drive/checkpt_promising.hdf5') \n",
        "history = model.fit(train_generator,\n",
        "                              epochs = epochs, \n",
        "                              validation_data = valid_gen,\n",
        "                              validation_steps = VALID_STEP,\n",
        "                              steps_per_epoch = TRAIN_STEP, # depends on amount of training data\n",
        "                              callbacks=[cb_checkpointer, cb_early_stopper])\n",
        "model.load_weights('./gdrive/My Drive/checkpt_latest.hdf5')         "
      ],
      "execution_count": null,
      "outputs": []
    },
    {
      "cell_type": "code",
      "metadata": {
        "id": "kw0qob9h_Bka",
        "colab_type": "code",
        "colab": {}
      },
      "source": [
        "test_datagen = ImageDataGenerator(rescale=1./255)\n",
        "test_gen = test_datagen.flow_from_directory(\n",
        "    directory=\"./test/test/test/\",\n",
        "    target_size=(img_size, img_size),\n",
        "    color_mode=\"rgb\",\n",
        "    batch_size=1,\n",
        "    class_mode=None,\n",
        "    shuffle=False,\n",
        "    seed=42\n",
        ")\n",
        "\n",
        "STEP_SIZE_TEST = test_gen.n//test_gen.batch_size\n",
        "test_generator.reset()\n",
        "\n",
        "pred = model.predict_generator(test_generator, steps=STEP_SIZE_TEST, verbose=1)\n",
        "predicted_class_indices = np.argmax(pred,axis=1)\n",
        "\n",
        "filenames=test_generator.filenames\n",
        "submission_df=pd.DataFrame({\"filename\":filenames,\n",
        "                      \"category\":predicted_class_indices})\n",
        "\n",
        "submission_df[\"category\"] = submission_df[\"category\"].apply(lambda x: np.random.randint(10))  # 00 to 41 inclusive\n",
        "submission_df[\"category\"] = submission_df[\"category\"].apply(lambda x: \"{:02}\".format(x))  # pad zeroes\n",
        "submission_df.to_csv(\"submission.csv\", index=False)"
      ],
      "execution_count": null,
      "outputs": []
    },
    {
      "cell_type": "code",
      "metadata": {
        "id": "l6Lb8ANq_BiY",
        "colab_type": "code",
        "colab": {}
      },
      "source": [
        "function ConnectButton(){\n",
        "    console.log(\"Connect pushed\"); \n",
        "    document.querySelector(\"#top-toolbar > colab-connect-button\").shadowRoot.querySelector(\"#connect\").click() \n",
        "}\n",
        "setInterval(ConnectButton,300000); # useful thing to keep Colab running I guess"
      ],
      "execution_count": null,
      "outputs": []
    }
  ]
}